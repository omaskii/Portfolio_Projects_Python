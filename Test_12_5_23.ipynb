{
 "cells": [
  {
   "cell_type": "code",
   "execution_count": null,
   "id": "fb129ad6",
   "metadata": {},
   "outputs": [],
   "source": [
    "import unittest\n",
    "import subprocess\n",
    "\n",
    "class TestFinancialCalculations(unittest.TestCase):\n",
    "    def test_load_data_into_tracking_table(self):\n",
    "        print(\"Running test_load_data_into_tracking_table ... \")\n",
    "        # Testing logic for loading data into tracking table\n",
    "        subprocess.run(['python', 'd:\\\\financial_calculation\\\\financial-calculations\\\\check_completion.py'])\n",
    "        # Add assertions to verify the expected outcomes\n",
    "        self.assertTrue(is_data_loaded, \"Data was not successfully loaded into the tracking table\")\n",
    "\n",
    "    def test_run_standalone_script(self):\n",
    "        print(\"Running test_run_standalone_script ... \")\n",
    "        # Testing logic for running the standalone financial calculations script\n",
    "        subprocess.run(['python', 'd:\\\\financial_calculation\\\\financial-calculations\\\\launch_sga_process.py'])\n",
    "        # Add assertions to verify the expected outcomes\n",
    "        self.assertTrue(script_completed_successfully, \"The standalone financial calculations script did not run successfully\")\n",
    "\n",
    "if __name__ == '__main__':\n",
    "    unittest.main()\n"
   ]
  }
 ],
 "metadata": {
  "kernelspec": {
   "display_name": "Python 3 (ipykernel)",
   "language": "python",
   "name": "python3"
  },
  "language_info": {
   "codemirror_mode": {
    "name": "ipython",
    "version": 3
   },
   "file_extension": ".py",
   "mimetype": "text/x-python",
   "name": "python",
   "nbconvert_exporter": "python",
   "pygments_lexer": "ipython3",
   "version": "3.9.13"
  }
 },
 "nbformat": 4,
 "nbformat_minor": 5
}
